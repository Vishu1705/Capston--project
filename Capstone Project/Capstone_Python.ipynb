{
 "cells": [
  {
   "cell_type": "markdown",
   "id": "f91d7f1b",
   "metadata": {},
   "source": [
    "# TASK1"
   ]
  },
  {
   "cell_type": "code",
   "execution_count": 1,
   "id": "b52f51cf",
   "metadata": {
    "collapsed": true
   },
   "outputs": [
    {
     "name": "stdout",
     "output_type": "stream",
     "text": [
      "Number of rows: 4803, Number of columns: 20\n",
      "                                          title  \\\n",
      "0                                        Avatar   \n",
      "1      Pirates of the Caribbean: At World's End   \n",
      "2                                       Spectre   \n",
      "3                         The Dark Knight Rises   \n",
      "4                                   John Carter   \n",
      "5                                  Spider-Man 3   \n",
      "6                                       Tangled   \n",
      "7                       Avengers: Age of Ultron   \n",
      "8        Harry Potter and the Half-Blood Prince   \n",
      "9            Batman v Superman: Dawn of Justice   \n",
      "10                             Superman Returns   \n",
      "11                            Quantum of Solace   \n",
      "12   Pirates of the Caribbean: Dead Man's Chest   \n",
      "13                              The Lone Ranger   \n",
      "14                                 Man of Steel   \n",
      "15     The Chronicles of Narnia: Prince Caspian   \n",
      "16                                 The Avengers   \n",
      "17  Pirates of the Caribbean: On Stranger Tides   \n",
      "18                               Men in Black 3   \n",
      "19    The Hobbit: The Battle of the Five Armies   \n",
      "20                       The Amazing Spider-Man   \n",
      "21                                   Robin Hood   \n",
      "22          The Hobbit: The Desolation of Smaug   \n",
      "23                           The Golden Compass   \n",
      "24                                    King Kong   \n",
      "25                                      Titanic   \n",
      "26                   Captain America: Civil War   \n",
      "27                                   Battleship   \n",
      "28                               Jurassic World   \n",
      "29                                      Skyfall   \n",
      "30                                 Spider-Man 2   \n",
      "31                                   Iron Man 3   \n",
      "32                          Alice in Wonderland   \n",
      "33                        X-Men: The Last Stand   \n",
      "34                          Monsters University   \n",
      "35          Transformers: Revenge of the Fallen   \n",
      "36              Transformers: Age of Extinction   \n",
      "37                   Oz: The Great and Powerful   \n",
      "38                     The Amazing Spider-Man 2   \n",
      "39                                 TRON: Legacy   \n",
      "40                                       Cars 2   \n",
      "41                                Green Lantern   \n",
      "42                                  Toy Story 3   \n",
      "43                         Terminator Salvation   \n",
      "44                                    Furious 7   \n",
      "45                                  World War Z   \n",
      "46                   X-Men: Days of Future Past   \n",
      "47                      Star Trek Into Darkness   \n",
      "48                        Jack the Giant Slayer   \n",
      "49                             The Great Gatsby   \n",
      "\n",
      "                                               genres  \n",
      "0   [{\"id\": 28, \"name\": \"Action\"}, {\"id\": 12, \"nam...  \n",
      "1   [{\"id\": 12, \"name\": \"Adventure\"}, {\"id\": 14, \"...  \n",
      "2   [{\"id\": 28, \"name\": \"Action\"}, {\"id\": 12, \"nam...  \n",
      "3   [{\"id\": 28, \"name\": \"Action\"}, {\"id\": 80, \"nam...  \n",
      "4   [{\"id\": 28, \"name\": \"Action\"}, {\"id\": 12, \"nam...  \n",
      "5   [{\"id\": 14, \"name\": \"Fantasy\"}, {\"id\": 28, \"na...  \n",
      "6   [{\"id\": 16, \"name\": \"Animation\"}, {\"id\": 10751...  \n",
      "7   [{\"id\": 28, \"name\": \"Action\"}, {\"id\": 12, \"nam...  \n",
      "8   [{\"id\": 12, \"name\": \"Adventure\"}, {\"id\": 14, \"...  \n",
      "9   [{\"id\": 28, \"name\": \"Action\"}, {\"id\": 12, \"nam...  \n",
      "10  [{\"id\": 12, \"name\": \"Adventure\"}, {\"id\": 14, \"...  \n",
      "11  [{\"id\": 12, \"name\": \"Adventure\"}, {\"id\": 28, \"...  \n",
      "12  [{\"id\": 12, \"name\": \"Adventure\"}, {\"id\": 14, \"...  \n",
      "13  [{\"id\": 28, \"name\": \"Action\"}, {\"id\": 12, \"nam...  \n",
      "14  [{\"id\": 28, \"name\": \"Action\"}, {\"id\": 12, \"nam...  \n",
      "15  [{\"id\": 12, \"name\": \"Adventure\"}, {\"id\": 10751...  \n",
      "16  [{\"id\": 878, \"name\": \"Science Fiction\"}, {\"id\"...  \n",
      "17  [{\"id\": 12, \"name\": \"Adventure\"}, {\"id\": 28, \"...  \n",
      "18  [{\"id\": 28, \"name\": \"Action\"}, {\"id\": 35, \"nam...  \n",
      "19  [{\"id\": 28, \"name\": \"Action\"}, {\"id\": 12, \"nam...  \n",
      "20  [{\"id\": 28, \"name\": \"Action\"}, {\"id\": 12, \"nam...  \n",
      "21  [{\"id\": 28, \"name\": \"Action\"}, {\"id\": 12, \"nam...  \n",
      "22  [{\"id\": 12, \"name\": \"Adventure\"}, {\"id\": 14, \"...  \n",
      "23  [{\"id\": 12, \"name\": \"Adventure\"}, {\"id\": 14, \"...  \n",
      "24  [{\"id\": 12, \"name\": \"Adventure\"}, {\"id\": 18, \"...  \n",
      "25  [{\"id\": 18, \"name\": \"Drama\"}, {\"id\": 10749, \"n...  \n",
      "26  [{\"id\": 12, \"name\": \"Adventure\"}, {\"id\": 28, \"...  \n",
      "27  [{\"id\": 53, \"name\": \"Thriller\"}, {\"id\": 28, \"n...  \n",
      "28  [{\"id\": 28, \"name\": \"Action\"}, {\"id\": 12, \"nam...  \n",
      "29  [{\"id\": 28, \"name\": \"Action\"}, {\"id\": 12, \"nam...  \n",
      "30  [{\"id\": 28, \"name\": \"Action\"}, {\"id\": 12, \"nam...  \n",
      "31  [{\"id\": 28, \"name\": \"Action\"}, {\"id\": 12, \"nam...  \n",
      "32  [{\"id\": 10751, \"name\": \"Family\"}, {\"id\": 14, \"...  \n",
      "33  [{\"id\": 12, \"name\": \"Adventure\"}, {\"id\": 28, \"...  \n",
      "34  [{\"id\": 16, \"name\": \"Animation\"}, {\"id\": 10751...  \n",
      "35  [{\"id\": 878, \"name\": \"Science Fiction\"}, {\"id\"...  \n",
      "36  [{\"id\": 878, \"name\": \"Science Fiction\"}, {\"id\"...  \n",
      "37  [{\"id\": 14, \"name\": \"Fantasy\"}, {\"id\": 12, \"na...  \n",
      "38  [{\"id\": 28, \"name\": \"Action\"}, {\"id\": 12, \"nam...  \n",
      "39  [{\"id\": 12, \"name\": \"Adventure\"}, {\"id\": 28, \"...  \n",
      "40  [{\"id\": 16, \"name\": \"Animation\"}, {\"id\": 10751...  \n",
      "41  [{\"id\": 12, \"name\": \"Adventure\"}, {\"id\": 28, \"...  \n",
      "42  [{\"id\": 16, \"name\": \"Animation\"}, {\"id\": 10751...  \n",
      "43  [{\"id\": 28, \"name\": \"Action\"}, {\"id\": 878, \"na...  \n",
      "44                     [{\"id\": 28, \"name\": \"Action\"}]  \n",
      "45  [{\"id\": 28, \"name\": \"Action\"}, {\"id\": 18, \"nam...  \n",
      "46  [{\"id\": 28, \"name\": \"Action\"}, {\"id\": 12, \"nam...  \n",
      "47  [{\"id\": 28, \"name\": \"Action\"}, {\"id\": 12, \"nam...  \n",
      "48  [{\"id\": 28, \"name\": \"Action\"}, {\"id\": 10751, \"...  \n",
      "49  [{\"id\": 18, \"name\": \"Drama\"}, {\"id\": 10749, \"n...  \n"
     ]
    }
   ],
   "source": [
    "import pandas as pd\n",
    "\n",
    "# Load the movie dataset\n",
    "movie_df = pd.read_csv('DS1_C8_V3_ND_Sprint2_Data Analysis Using Python_Dataset.csv') \n",
    "\n",
    "# Display the number of rows and columns\n",
    "rows, columns = movie_df.shape\n",
    "print(f'Number of rows: {rows}, Number of columns: {columns}')\n",
    "\n",
    "# Display titles and genres of the first 50 movies\n",
    "print(movie_df[['title', 'genres']].head(50))\n"
   ]
  },
  {
   "cell_type": "markdown",
   "id": "9a2f300e",
   "metadata": {},
   "source": [
    "# TASK2"
   ]
  },
  {
   "cell_type": "code",
   "execution_count": 2,
   "id": "71712c08",
   "metadata": {},
   "outputs": [
    {
     "name": "stdout",
     "output_type": "stream",
     "text": [
      "Columns with null values: Index(['homepage', 'overview', 'release_date', 'runtime', 'tagline'], dtype='object')\n"
     ]
    }
   ],
   "source": [
    "null_columns = movie_df.columns[movie_df.isnull().any()]\n",
    "print(f'Columns with null values: {null_columns}')"
   ]
  },
  {
   "cell_type": "markdown",
   "id": "6efb3b62",
   "metadata": {},
   "source": [
    "# TASK3"
   ]
  },
  {
   "cell_type": "code",
   "execution_count": 3,
   "id": "5d35ef60",
   "metadata": {
    "collapsed": true
   },
   "outputs": [
    {
     "name": "stdout",
     "output_type": "stream",
     "text": [
      "Movie categories with budget > $220,000: ['[{\"id\": 28, \"name\": \"Action\"}, {\"id\": 12, \"name\": \"Adventure\"}, {\"id\": 14, \"name\": \"Fantasy\"}, {\"id\": 878, \"name\": \"Science Fiction\"}]'\n",
      " '[{\"id\": 12, \"name\": \"Adventure\"}, {\"id\": 14, \"name\": \"Fantasy\"}, {\"id\": 28, \"name\": \"Action\"}]'\n",
      " '[{\"id\": 28, \"name\": \"Action\"}, {\"id\": 12, \"name\": \"Adventure\"}, {\"id\": 80, \"name\": \"Crime\"}]'\n",
      " ...\n",
      " '[{\"id\": 878, \"name\": \"Science Fiction\"}, {\"id\": 10751, \"name\": \"Family\"}]'\n",
      " '[{\"id\": 35, \"name\": \"Comedy\"}, {\"id\": 27, \"name\": \"Horror\"}, {\"id\": 53, \"name\": \"Thriller\"}]'\n",
      " '[{\"id\": 10769, \"name\": \"Foreign\"}, {\"id\": 99, \"name\": \"Documentary\"}]']\n"
     ]
    }
   ],
   "source": [
    "high_budget_categories = movie_df[movie_df['budget'] > 220000]['genres'].unique()\n",
    "print(f'Movie categories with budget > $220,000: {high_budget_categories}')"
   ]
  },
  {
   "cell_type": "markdown",
   "id": "c9dbecce",
   "metadata": {},
   "source": [
    "# TASK4"
   ]
  },
  {
   "cell_type": "code",
   "execution_count": 5,
   "id": "0ba07f2e",
   "metadata": {
    "collapsed": true
   },
   "outputs": [
    {
     "name": "stdout",
     "output_type": "stream",
     "text": [
      "Movie categories with revenue > $961,000,000: ['[{\"id\": 28, \"name\": \"Action\"}, {\"id\": 12, \"name\": \"Adventure\"}, {\"id\": 14, \"name\": \"Fantasy\"}, {\"id\": 878, \"name\": \"Science Fiction\"}]'\n",
      " '[{\"id\": 28, \"name\": \"Action\"}, {\"id\": 80, \"name\": \"Crime\"}, {\"id\": 18, \"name\": \"Drama\"}, {\"id\": 53, \"name\": \"Thriller\"}]'\n",
      " '[{\"id\": 28, \"name\": \"Action\"}, {\"id\": 12, \"name\": \"Adventure\"}, {\"id\": 878, \"name\": \"Science Fiction\"}]'\n",
      " '[{\"id\": 12, \"name\": \"Adventure\"}, {\"id\": 14, \"name\": \"Fantasy\"}, {\"id\": 28, \"name\": \"Action\"}]'\n",
      " '[{\"id\": 878, \"name\": \"Science Fiction\"}, {\"id\": 28, \"name\": \"Action\"}, {\"id\": 12, \"name\": \"Adventure\"}]'\n",
      " '[{\"id\": 12, \"name\": \"Adventure\"}, {\"id\": 28, \"name\": \"Action\"}, {\"id\": 14, \"name\": \"Fantasy\"}]'\n",
      " '[{\"id\": 18, \"name\": \"Drama\"}, {\"id\": 10749, \"name\": \"Romance\"}, {\"id\": 53, \"name\": \"Thriller\"}]'\n",
      " '[{\"id\": 12, \"name\": \"Adventure\"}, {\"id\": 28, \"name\": \"Action\"}, {\"id\": 878, \"name\": \"Science Fiction\"}]'\n",
      " '[{\"id\": 28, \"name\": \"Action\"}, {\"id\": 12, \"name\": \"Adventure\"}, {\"id\": 878, \"name\": \"Science Fiction\"}, {\"id\": 53, \"name\": \"Thriller\"}]'\n",
      " '[{\"id\": 28, \"name\": \"Action\"}, {\"id\": 12, \"name\": \"Adventure\"}, {\"id\": 53, \"name\": \"Thriller\"}]'\n",
      " '[{\"id\": 10751, \"name\": \"Family\"}, {\"id\": 14, \"name\": \"Fantasy\"}, {\"id\": 12, \"name\": \"Adventure\"}]'\n",
      " '[{\"id\": 16, \"name\": \"Animation\"}, {\"id\": 10751, \"name\": \"Family\"}, {\"id\": 35, \"name\": \"Comedy\"}]'\n",
      " '[{\"id\": 28, \"name\": \"Action\"}]'\n",
      " '[{\"id\": 28, \"name\": \"Action\"}, {\"id\": 878, \"name\": \"Science Fiction\"}, {\"id\": 12, \"name\": \"Adventure\"}]'\n",
      " '[{\"id\": 18, \"name\": \"Drama\"}, {\"id\": 28, \"name\": \"Action\"}, {\"id\": 80, \"name\": \"Crime\"}, {\"id\": 53, \"name\": \"Thriller\"}]'\n",
      " '[{\"id\": 10751, \"name\": \"Family\"}, {\"id\": 12, \"name\": \"Adventure\"}, {\"id\": 18, \"name\": \"Drama\"}, {\"id\": 14, \"name\": \"Fantasy\"}]'\n",
      " '[{\"id\": 16, \"name\": \"Animation\"}, {\"id\": 12, \"name\": \"Adventure\"}, {\"id\": 10751, \"name\": \"Family\"}]'\n",
      " '[{\"id\": 12, \"name\": \"Adventure\"}, {\"id\": 14, \"name\": \"Fantasy\"}, {\"id\": 10751, \"name\": \"Family\"}]'\n",
      " '[{\"id\": 16, \"name\": \"Animation\"}, {\"id\": 35, \"name\": \"Comedy\"}, {\"id\": 10751, \"name\": \"Family\"}]'\n",
      " '[{\"id\": 10751, \"name\": \"Family\"}, {\"id\": 16, \"name\": \"Animation\"}, {\"id\": 12, \"name\": \"Adventure\"}, {\"id\": 35, \"name\": \"Comedy\"}]']\n"
     ]
    }
   ],
   "source": [
    "high_revenue_categories = movie_df[movie_df['revenue'] > 961000000]['genres'].unique()\n",
    "print(f'Movie categories with revenue > $961,000,000: {high_revenue_categories}')"
   ]
  },
  {
   "cell_type": "markdown",
   "id": "c6f5e0b1",
   "metadata": {},
   "source": [
    "# TASK5"
   ]
  },
  {
   "cell_type": "code",
   "execution_count": 6,
   "id": "b4baf931",
   "metadata": {},
   "outputs": [],
   "source": [
    "movie_df = movie_df[(movie_df['budget'] != 0) & (movie_df['revenue'] != 0)]"
   ]
  },
  {
   "cell_type": "markdown",
   "id": "0f8f66dc",
   "metadata": {},
   "source": [
    "# TASK6"
   ]
  },
  {
   "cell_type": "code",
   "execution_count": 7,
   "id": "c1895884",
   "metadata": {
    "collapsed": true
   },
   "outputs": [
    {
     "name": "stdout",
     "output_type": "stream",
     "text": [
      "Top 10 movies with highest revenues:\n",
      "                          title     revenue\n",
      "0                        Avatar  2787965087\n",
      "25                      Titanic  1845034188\n",
      "16                 The Avengers  1519557910\n",
      "28               Jurassic World  1513528810\n",
      "44                    Furious 7  1506249360\n",
      "7       Avengers: Age of Ultron  1405403694\n",
      "124                      Frozen  1274219009\n",
      "31                   Iron Man 3  1215439994\n",
      "546                     Minions  1156730962\n",
      "26   Captain America: Civil War  1153304495\n",
      "\n",
      "Top 10 movies with least budget:\n",
      "                   title  budget\n",
      "4238        Modern Times       1\n",
      "3611  A Farewell to Arms       4\n",
      "3372        Split Second       7\n",
      "3419        Bran Nue Dae       7\n",
      "4608        The Prophecy       8\n",
      "3131   Of Horses and Men      10\n",
      "3137           Nurse 3-D      10\n",
      "2933            F.I.S.T.      11\n",
      "1912      Angela's Ashes      25\n",
      "1771      The 51st State      28\n"
     ]
    }
   ],
   "source": [
    "top_revenue_movies = movie_df.nlargest(10, 'revenue')[['title', 'revenue']]\n",
    "least_budget_movies = movie_df.nsmallest(10, 'budget')[['title', 'budget']]\n",
    "print('Top 10 movies with highest revenues:')\n",
    "print(top_revenue_movies)\n",
    "print('\\nTop 10 movies with least budget:')\n",
    "print(least_budget_movies)"
   ]
  },
  {
   "cell_type": "markdown",
   "id": "0e4561f7",
   "metadata": {},
   "source": [
    "# TASK7"
   ]
  },
  {
   "cell_type": "code",
   "execution_count": 8,
   "id": "32addeec",
   "metadata": {},
   "outputs": [
    {
     "name": "stdout",
     "output_type": "stream",
     "text": [
      "Correlation between popularity and budget: 0.4319901360079751\n"
     ]
    }
   ],
   "source": [
    "correlation = movie_df['popularity'].corr(movie_df['budget'])\n",
    "print(f'Correlation between popularity and budget: {correlation}')"
   ]
  },
  {
   "cell_type": "markdown",
   "id": "44508bb7",
   "metadata": {},
   "source": [
    "# TASK8"
   ]
  },
  {
   "cell_type": "code",
   "execution_count": 10,
   "id": "865e7a04",
   "metadata": {},
   "outputs": [
    {
     "name": "stdout",
     "output_type": "stream",
     "text": [
      "Production companies and their counts:\n",
      "[{\"name\": \"Paramount Pictures\"        241\n",
      "\"id\": 33}                             228\n",
      "[{\"name\": \"Universal Pictures\"        228\n",
      "{\"name\": \"Warner Bros.\"               226\n",
      "\"id\": 4}                              193\n",
      "                                     ... \n",
      "\"id\": 65082}]                           1\n",
      "{\"name\": \"Shutt/Jones Productions\"      1\n",
      "\"id\": 22107}]                           1\n",
      "{\"name\": \"Sierra/Affinity\"              1\n",
      "\"id\": 881}]                             1\n",
      "Name: production_companies, Length: 8142, dtype: int64\n"
     ]
    }
   ],
   "source": [
    "production_companies_counts = movie_df['production_companies'].str.split(', ').explode().value_counts()\n",
    "print('Production companies and their counts:')\n",
    "print(production_companies_counts)"
   ]
  },
  {
   "cell_type": "markdown",
   "id": "eaaa5b59",
   "metadata": {},
   "source": [
    "# TASK9"
   ]
  },
  {
   "cell_type": "code",
   "execution_count": 11,
   "id": "3b4082a4",
   "metadata": {},
   "outputs": [
    {
     "name": "stdout",
     "output_type": "stream",
     "text": [
      "\n",
      "Top 25 production companies based on the number of movies produced:\n",
      "[{\"name\": \"Paramount Pictures\", \"id\": 4}]                                                                           48\n",
      "[]                                                                                                                  41\n",
      "[{\"name\": \"Universal Pictures\", \"id\": 33}]                                                                          35\n",
      "[{\"name\": \"New Line Cinema\", \"id\": 12}]                                                                             29\n",
      "[{\"name\": \"Columbia Pictures\", \"id\": 5}]                                                                            28\n",
      "[{\"name\": \"Twentieth Century Fox Film Corporation\", \"id\": 306}]                                                     25\n",
      "[{\"name\": \"Warner Bros.\", \"id\": 6194}]                                                                              24\n",
      "[{\"name\": \"Metro-Goldwyn-Mayer (MGM)\", \"id\": 8411}]                                                                 24\n",
      "[{\"name\": \"Walt Disney Pictures\", \"id\": 2}]                                                                         18\n",
      "[{\"name\": \"Touchstone Pictures\", \"id\": 9195}]                                                                       15\n",
      "[{\"name\": \"Columbia Pictures Corporation\", \"id\": 441}]                                                              13\n",
      "[{\"name\": \"Dimension Films\", \"id\": 7405}]                                                                           13\n",
      "[{\"name\": \"DreamWorks Animation\", \"id\": 521}]                                                                       12\n",
      "[{\"name\": \"Walt Disney Pictures\", \"id\": 2}, {\"name\": \"Pixar Animation Studios\", \"id\": 3}]                           11\n",
      "[{\"name\": \"United Artists\", \"id\": 60}]                                                                              10\n",
      "[{\"name\": \"Walt Disney Pictures\", \"id\": 2}, {\"name\": \"Walt Disney Feature Animation\", \"id\": 10217}]                  9\n",
      "[{\"name\": \"Miramax Films\", \"id\": 14}]                                                                                9\n",
      "[{\"name\": \"Marvel Studios\", \"id\": 420}]                                                                              8\n",
      "[{\"name\": \"Blue Sky Studios\", \"id\": 9383}, {\"name\": \"Twentieth Century Fox Animation\", \"id\": 11749}]                 8\n",
      "[{\"name\": \"Eon Productions\", \"id\": 7576}]                                                                            7\n",
      "[{\"name\": \"Fox 2000 Pictures\", \"id\": 711}]                                                                           7\n",
      "[{\"name\": \"United Artists\", \"id\": 60}, {\"name\": \"Eon Productions\", \"id\": 7576}, {\"name\": \"Danjaq\", \"id\": 10761}]     7\n",
      "[{\"name\": \"Hollywood Pictures\", \"id\": 915}, {\"name\": \"Cinergi Pictures Entertainment\", \"id\": 1504}]                  6\n",
      "[{\"name\": \"Imagine Entertainment\", \"id\": 23}, {\"name\": \"Universal Pictures\", \"id\": 33}]                              6\n",
      "[{\"name\": \"TriStar Pictures\", \"id\": 559}]                                                                            6\n",
      "Name: production_companies, dtype: int64\n"
     ]
    }
   ],
   "source": [
    "top_production_companies = movie_df['production_companies'].explode().value_counts().nlargest(25)\n",
    "print('\\nTop 25 production companies based on the number of movies produced:')\n",
    "print(top_production_companies)"
   ]
  },
  {
   "cell_type": "markdown",
   "id": "7fe76bec",
   "metadata": {},
   "source": [
    "# TASK10"
   ]
  },
  {
   "cell_type": "code",
   "execution_count": 14,
   "id": "c1fff3f1",
   "metadata": {},
   "outputs": [
    {
     "name": "stdout",
     "output_type": "stream",
     "text": [
      "\n",
      "Measures of central tendency for the top 500 movies:\n",
      "Mean Budget: 103193736.0, Median Budget: 95000000.0\n",
      "Mean Revenue: 458577595.062, Median Revenue: 363001569.5\n",
      "Mean Runtime: 118.72, Median Runtime: 116.0\n"
     ]
    },
    {
     "data": {
      "image/png": "[encoded data removed]",
      "text/plain": [
       "<Figure size 1200x600 with 3 Axes>"
      ]
     },
     "metadata": {},
     "output_type": "display_data"
    }
   ],
   "source": [
    "import matplotlib.pyplot as plt\n",
    "top_500_movies = movie_df.nlargest(500, 'revenue')\n",
    "\n",
    "mean_budget = top_500_movies['budget'].mean()\n",
    "median_budget = top_500_movies['budget'].median()\n",
    "mean_revenue = top_500_movies['revenue'].mean()\n",
    "median_revenue = top_500_movies['revenue'].median()\n",
    "mean_runtime = top_500_movies['runtime'].mean()\n",
    "median_runtime = top_500_movies['runtime'].median()\n",
    "\n",
    "print('\\nMeasures of central tendency for the top 500 movies:')\n",
    "print(f'Mean Budget: {mean_budget}, Median Budget: {median_budget}')\n",
    "print(f'Mean Revenue: {mean_revenue}, Median Revenue: {median_revenue}')\n",
    "print(f'Mean Runtime: {mean_runtime}, Median Runtime: {median_runtime}')\n",
    "\n",
    "# Outlier analysis using box plots\n",
    "plt.figure(figsize=(12, 6))\n",
    "plt.subplot(1, 3, 1)\n",
    "plt.boxplot(top_500_movies['budget'], vert=False)\n",
    "plt.title('Budget')\n",
    "\n",
    "plt.subplot(1, 3, 2)\n",
    "plt.boxplot(top_500_movies['revenue'], vert=False)\n",
    "plt.title('Revenue')\n",
    "\n",
    "plt.subplot(1, 3, 3)\n",
    "plt.boxplot(top_500_movies['runtime'], vert=False)\n",
    "plt.title('Runtime')\n",
    "\n",
    "plt.tight_layout()\n",
    "plt.show()"
   ]
  },
  {
   "cell_type": "markdown",
   "id": "6fb3b345",
   "metadata": {},
   "source": [
    "# TASK11"
   ]
  },
  {
   "cell_type": "code",
   "execution_count": 16,
   "id": "f69f69c3",
   "metadata": {},
   "outputs": [
    {
     "name": "stdout",
     "output_type": "stream",
     "text": [
      "Movies with Above-Average Runtime:\n",
      "                 title  runtime\n",
      "0               Avatar    162.0\n",
      "25             Titanic    194.0\n",
      "16        The Avengers    143.0\n",
      "28      Jurassic World    124.0\n",
      "44           Furious 7    137.0\n",
      "...                ...      ...\n",
      "521       The Terminal    128.0\n",
      "397   It's Complicated    121.0\n",
      "1744        Knocked Up    129.0\n",
      "717       Jack Reacher    130.0\n",
      "714         Collateral    120.0\n",
      "\n",
      "[234 rows x 2 columns]\n"
     ]
    }
   ],
   "source": [
    "# Calculate the average runtime from the filtered_top_movies\n",
    "average_runtime = top_500_movies['runtime'].mean()\n",
    "\n",
    "# Identify and display movies with above-average runtime\n",
    "above_average_runtime_movies = top_500_movies[top_500_movies['runtime'] > average_runtime][['title', 'runtime']]\n",
    "\n",
    "# Display the names of movies along with their runtimes\n",
    "print('Movies with Above-Average Runtime:')\n",
    "print(above_average_runtime_movies)"
   ]
  },
  {
   "cell_type": "code",
   "execution_count": null,
   "id": "70f42cf2",
   "metadata": {},
   "outputs": [],
   "source": []
  }
 ],
 "metadata": {
  "kernelspec": {
   "display_name": "Python 3 (ipykernel)",
   "language": "python",
   "name": "python3"
  },
  "language_info": {
   "codemirror_mode": {
    "name": "ipython",
    "version": 3
   },
   "file_extension": ".py",
   "mimetype": "text/x-python",
   "name": "python",
   "nbconvert_exporter": "python",
   "pygments_lexer": "ipython3",
   "version": "3.10.9"
  }
 },
 "nbformat": 4,
 "nbformat_minor": 5
}
